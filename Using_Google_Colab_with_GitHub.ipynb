{
  "nbformat": 4,
  "nbformat_minor": 0,
  "metadata": {
    "colab": {
      "provenance": [],
      "authorship_tag": "ABX9TyOzdTF7jvWk9VEAlbmMMGKr",
      "include_colab_link": true
    },
    "kernelspec": {
      "name": "ir",
      "display_name": "R"
    },
    "language_info": {
      "name": "R"
    }
  },
  "cells": [
    {
      "cell_type": "markdown",
      "metadata": {
        "id": "view-in-github",
        "colab_type": "text"
      },
      "source": [
        "<a href=\"https://colab.research.google.com/github/jbpost2/eCOTS_2024/blob/main/Using_Google_Colab_with_GitHub.ipynb\" target=\"_parent\"><img src=\"https://colab.research.google.com/assets/colab-badge.svg\" alt=\"Open In Colab\"/></a>"
      ]
    },
    {
      "cell_type": "markdown",
      "source": [
        "# Markdown Capabilities\n",
        "\n",
        "## What is Markdown?  \n",
        "\n",
        "- Most have heard of HTML (HyperText Mark-up Language)  \n",
        "    + Write plain text that the browser interprets and renders  \n",
        "    \n",
        "- Markdown is a specific 'mark-up' language  \n",
        "    + Easier syntax  \n",
        "    + Not as powerful  \n",
        "    \n",
        "- Can be used in 'Text' cells\n",
        "- **Double click a text cell to see the plain text formatting used!**\n",
        "- **Shift enter to make the cell 'render'**"
      ],
      "metadata": {
        "id": "6rS38MWj3Ggq"
      }
    },
    {
      "cell_type": "markdown",
      "source": [
        "---\n",
        "\n",
        "## Markdown Syntax  \n",
        "\n",
        "- General link: \\[link\\](URL or relative link)\n",
        "    + [Markdown Reference from Jupyter](https://jupyter-notebook.readthedocs.io/en/stable/examples/Notebook/Working%20With%20Markdown%20Cells.html)\n",
        "- `*italics*` *and* `_italics_`\n",
        "- `**bold**` **and** `__bold__`\n",
        "- `~~strikethrough~~`  becomes ~~strikethrough~~\n",
        "---\n",
        "* Three dashes for a thematic break\n",
        "* \\# Level 1 Header, \\#\\# Level 2 Header, to six levels\n",
        "* Use of headers can automatically creates a Table of Contents!\n",
        "    - See top left icon on Colab\n",
        "* Include an image: \\!\\[\\](path/to/file.png)\n",
        "    - ![](https://www4.stat.ncsu.edu/~online/datasets/slr.png)\n",
        "* Surround `text` with a backtick to make 'code font'"
      ],
      "metadata": {
        "id": "HdpGbce53S7g"
      }
    },
    {
      "cell_type": "markdown",
      "source": [
        "---\n",
        "  \n",
        "## Widgets and Such\n",
        "  \n",
        "[Widget Info](https://github.com/jupyter-widgets)\n",
        "\n",
        "- Lots of fun widgets that you can add\n",
        "    + Maps\n",
        "    + Sliders\n",
        "    + Text input    \n",
        "    + Check boxes\n",
        "    + Etc.\n"
      ],
      "metadata": {
        "id": "UU7Wt6rx3Tn3"
      }
    },
    {
      "cell_type": "markdown",
      "source": [
        "---\n",
        "\n",
        "The real power here is that we can include code and output!\n",
        "\n",
        "If you go to Edit --> Notebook Settings, you can select the 'Runtime type' to be R. Then you can type and submit R code in a code cell."
      ],
      "metadata": {
        "id": "vVdocMPK3ZEY"
      }
    },
    {
      "cell_type": "code",
      "source": [
        "fit <- lm(dist ~ speed, data = cars)\n",
        "summary(fit)"
      ],
      "metadata": {
        "colab": {
          "base_uri": "https://localhost:8080/",
          "height": 350
        },
        "id": "95TeL_9S3_MW",
        "outputId": "0fe22cc5-1c2b-4673-89db-099dcaa1236d"
      },
      "execution_count": 2,
      "outputs": [
        {
          "output_type": "display_data",
          "data": {
            "text/plain": [
              "\n",
              "Call:\n",
              "lm(formula = dist ~ speed, data = cars)\n",
              "\n",
              "Residuals:\n",
              "    Min      1Q  Median      3Q     Max \n",
              "-29.069  -9.525  -2.272   9.215  43.201 \n",
              "\n",
              "Coefficients:\n",
              "            Estimate Std. Error t value Pr(>|t|)    \n",
              "(Intercept) -17.5791     6.7584  -2.601   0.0123 *  \n",
              "speed         3.9324     0.4155   9.464 1.49e-12 ***\n",
              "---\n",
              "Signif. codes:  0 ‘***’ 0.001 ‘**’ 0.01 ‘*’ 0.05 ‘.’ 0.1 ‘ ’ 1\n",
              "\n",
              "Residual standard error: 15.38 on 48 degrees of freedom\n",
              "Multiple R-squared:  0.6511,\tAdjusted R-squared:  0.6438 \n",
              "F-statistic: 89.57 on 1 and 48 DF,  p-value: 1.49e-12\n"
            ]
          },
          "metadata": {}
        }
      ]
    },
    {
      "cell_type": "markdown",
      "source": [
        "# Connecting with GitHub\n",
        "\n",
        "This is awesome!\n",
        "\n",
        "Now we can connect with GitHub pretty easily. Go to File --> Save a copy in GitHub.\n",
        "\n",
        "You'll need to link your github account and then you can see your repos. You can then save and do your version control through GitHub!"
      ],
      "metadata": {
        "id": "KkiIjn4o4GS8"
      }
    },
    {
      "cell_type": "code",
      "source": [],
      "metadata": {
        "id": "ydTcWaCZ4lPO"
      },
      "execution_count": null,
      "outputs": []
    }
  ]
}